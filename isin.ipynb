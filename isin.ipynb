{
 "cells": [
  {
   "cell_type": "code",
   "execution_count": 1,
   "id": "10d1c822-d7f6-414d-8626-973ec7578987",
   "metadata": {},
   "outputs": [],
   "source": [
    "import pandas as pd"
   ]
  },
  {
   "cell_type": "code",
   "execution_count": 3,
   "id": "11478a5a-7dc8-4afc-9532-833b60aec40a",
   "metadata": {},
   "outputs": [
    {
     "data": {
      "text/html": [
       "<div>\n",
       "<style scoped>\n",
       "    .dataframe tbody tr th:only-of-type {\n",
       "        vertical-align: middle;\n",
       "    }\n",
       "\n",
       "    .dataframe tbody tr th {\n",
       "        vertical-align: top;\n",
       "    }\n",
       "\n",
       "    .dataframe thead th {\n",
       "        text-align: right;\n",
       "    }\n",
       "</style>\n",
       "<table border=\"1\" class=\"dataframe\">\n",
       "  <thead>\n",
       "    <tr style=\"text-align: right;\">\n",
       "      <th></th>\n",
       "      <th>match_id</th>\n",
       "      <th>inning</th>\n",
       "      <th>batting_team</th>\n",
       "      <th>bowling_team</th>\n",
       "      <th>over</th>\n",
       "      <th>ball</th>\n",
       "      <th>batsman</th>\n",
       "      <th>non_striker</th>\n",
       "      <th>bowler</th>\n",
       "      <th>is_super_over</th>\n",
       "      <th>...</th>\n",
       "      <th>bye_runs</th>\n",
       "      <th>legbye_runs</th>\n",
       "      <th>noball_runs</th>\n",
       "      <th>penalty_runs</th>\n",
       "      <th>batsman_runs</th>\n",
       "      <th>extra_runs</th>\n",
       "      <th>total_runs</th>\n",
       "      <th>player_dismissed</th>\n",
       "      <th>dismissal_kind</th>\n",
       "      <th>fielder</th>\n",
       "    </tr>\n",
       "  </thead>\n",
       "  <tbody>\n",
       "    <tr>\n",
       "      <th>0</th>\n",
       "      <td>1</td>\n",
       "      <td>1</td>\n",
       "      <td>Sunrisers Hyderabad</td>\n",
       "      <td>Royal Challengers Bangalore</td>\n",
       "      <td>1</td>\n",
       "      <td>1</td>\n",
       "      <td>DA Warner</td>\n",
       "      <td>S Dhawan</td>\n",
       "      <td>TS Mills</td>\n",
       "      <td>0</td>\n",
       "      <td>...</td>\n",
       "      <td>0</td>\n",
       "      <td>0</td>\n",
       "      <td>0</td>\n",
       "      <td>0</td>\n",
       "      <td>0</td>\n",
       "      <td>0</td>\n",
       "      <td>0</td>\n",
       "      <td>NaN</td>\n",
       "      <td>NaN</td>\n",
       "      <td>NaN</td>\n",
       "    </tr>\n",
       "    <tr>\n",
       "      <th>1</th>\n",
       "      <td>1</td>\n",
       "      <td>1</td>\n",
       "      <td>Sunrisers Hyderabad</td>\n",
       "      <td>Royal Challengers Bangalore</td>\n",
       "      <td>1</td>\n",
       "      <td>2</td>\n",
       "      <td>DA Warner</td>\n",
       "      <td>S Dhawan</td>\n",
       "      <td>TS Mills</td>\n",
       "      <td>0</td>\n",
       "      <td>...</td>\n",
       "      <td>0</td>\n",
       "      <td>0</td>\n",
       "      <td>0</td>\n",
       "      <td>0</td>\n",
       "      <td>0</td>\n",
       "      <td>0</td>\n",
       "      <td>0</td>\n",
       "      <td>NaN</td>\n",
       "      <td>NaN</td>\n",
       "      <td>NaN</td>\n",
       "    </tr>\n",
       "    <tr>\n",
       "      <th>2</th>\n",
       "      <td>1</td>\n",
       "      <td>1</td>\n",
       "      <td>Sunrisers Hyderabad</td>\n",
       "      <td>Royal Challengers Bangalore</td>\n",
       "      <td>1</td>\n",
       "      <td>3</td>\n",
       "      <td>DA Warner</td>\n",
       "      <td>S Dhawan</td>\n",
       "      <td>TS Mills</td>\n",
       "      <td>0</td>\n",
       "      <td>...</td>\n",
       "      <td>0</td>\n",
       "      <td>0</td>\n",
       "      <td>0</td>\n",
       "      <td>0</td>\n",
       "      <td>4</td>\n",
       "      <td>0</td>\n",
       "      <td>4</td>\n",
       "      <td>NaN</td>\n",
       "      <td>NaN</td>\n",
       "      <td>NaN</td>\n",
       "    </tr>\n",
       "  </tbody>\n",
       "</table>\n",
       "<p>3 rows × 21 columns</p>\n",
       "</div>"
      ],
      "text/plain": [
       "   match_id  inning         batting_team                 bowling_team  over  \\\n",
       "0         1       1  Sunrisers Hyderabad  Royal Challengers Bangalore     1   \n",
       "1         1       1  Sunrisers Hyderabad  Royal Challengers Bangalore     1   \n",
       "2         1       1  Sunrisers Hyderabad  Royal Challengers Bangalore     1   \n",
       "\n",
       "   ball    batsman non_striker    bowler  is_super_over  ...  bye_runs  \\\n",
       "0     1  DA Warner    S Dhawan  TS Mills              0  ...         0   \n",
       "1     2  DA Warner    S Dhawan  TS Mills              0  ...         0   \n",
       "2     3  DA Warner    S Dhawan  TS Mills              0  ...         0   \n",
       "\n",
       "   legbye_runs  noball_runs  penalty_runs  batsman_runs  extra_runs  \\\n",
       "0            0            0             0             0           0   \n",
       "1            0            0             0             0           0   \n",
       "2            0            0             0             4           0   \n",
       "\n",
       "   total_runs  player_dismissed dismissal_kind fielder  \n",
       "0           0               NaN            NaN     NaN  \n",
       "1           0               NaN            NaN     NaN  \n",
       "2           4               NaN            NaN     NaN  \n",
       "\n",
       "[3 rows x 21 columns]"
      ]
     },
     "execution_count": 3,
     "metadata": {},
     "output_type": "execute_result"
    }
   ],
   "source": [
    "delivery=pd.read_csv('deliveries.csv')\n",
    "delivery.head(3)"
   ]
  },
  {
   "cell_type": "code",
   "execution_count": 4,
   "id": "abc13bef-12f9-45fb-acb8-a8002dd77c63",
   "metadata": {},
   "outputs": [],
   "source": [
    "#find the most destructive death over batsman in  the IPL history.\n",
    "#Strike rate(number of runs/number of ball)/100.\n",
    "#batsman min 200 balls in over 16-20.\n"
   ]
  },
  {
   "cell_type": "code",
   "execution_count": 4,
   "id": "f46e081a-919c-461b-8d0b-dc3e298f8c0c",
   "metadata": {},
   "outputs": [],
   "source": [
    "death_over=delivery[delivery['over']> 15]"
   ]
  },
  {
   "cell_type": "code",
   "execution_count": null,
   "id": "d51a5c4f-2234-4c29-882d-0a7f4f9c0b0a",
   "metadata": {},
   "outputs": [],
   "source": [
    "all_batsman=death_over.groupby('batsman')['batsman_runs'].count()\n",
    "all_batsman"
   ]
  },
  {
   "cell_type": "code",
   "execution_count": 11,
   "id": "938dc114-e9fa-4cc2-aadf-63d86bebb8c9",
   "metadata": {},
   "outputs": [],
   "source": [
    "x=all_batsman>200"
   ]
  },
  {
   "cell_type": "code",
   "execution_count": 12,
   "id": "82aab40d-78b3-43d6-b039-28d75954e491",
   "metadata": {},
   "outputs": [
    {
     "data": {
      "text/plain": [
       "batsman\n",
       "A Ashish Reddy    False\n",
       "A Chandila        False\n",
       "A Chopra          False\n",
       "A Choudhary       False\n",
       "A Flintoff        False\n",
       "                  ...  \n",
       "YS Chahal         False\n",
       "YV Takawale       False\n",
       "Yashpal Singh     False\n",
       "Yuvraj Singh       True\n",
       "Z Khan            False\n",
       "Name: batsman_runs, Length: 416, dtype: bool"
      ]
     },
     "execution_count": 12,
     "metadata": {},
     "output_type": "execute_result"
    }
   ],
   "source": [
    "x"
   ]
  },
  {
   "cell_type": "code",
   "execution_count": 13,
   "id": "25028249-6191-4891-b273-50a1a8b91510",
   "metadata": {},
   "outputs": [
    {
     "data": {
      "text/plain": [
       "batsman\n",
       "A Mishra          225\n",
       "AB de Villiers    570\n",
       "AD Mathews        289\n",
       "AM Rahane         268\n",
       "AR Patel          229\n",
       "Name: batsman_runs, dtype: int64"
      ]
     },
     "execution_count": 13,
     "metadata": {},
     "output_type": "execute_result"
    }
   ],
   "source": [
    "all_batsman[x].head()"
   ]
  },
  {
   "cell_type": "code",
   "execution_count": 14,
   "id": "eedde8a9-4c1d-412a-89a8-aa1ecbb23249",
   "metadata": {},
   "outputs": [],
   "source": [
    "batsman_list=all_batsman[x].index.tolist()"
   ]
  },
  {
   "cell_type": "code",
   "execution_count": 15,
   "id": "6e341a70-a476-4d8e-a24c-f6e8dfd5c14c",
   "metadata": {},
   "outputs": [
    {
     "data": {
      "text/plain": [
       "['A Mishra',\n",
       " 'AB de Villiers',\n",
       " 'AD Mathews',\n",
       " 'AM Rahane',\n",
       " 'AR Patel',\n",
       " 'AT Rayudu',\n",
       " 'BJ Hodge',\n",
       " 'DA Miller',\n",
       " 'DA Warner',\n",
       " 'DJ Bravo',\n",
       " 'DJ Hussey',\n",
       " 'DPMD Jayawardene',\n",
       " 'Harbhajan Singh',\n",
       " 'IK Pathan',\n",
       " 'JA Morkel',\n",
       " 'JH Kallis',\n",
       " 'JP Duminy',\n",
       " 'JP Faulkner',\n",
       " 'KA Pollard',\n",
       " 'KD Karthik',\n",
       " 'KM Jadhav',\n",
       " 'LRPL Taylor',\n",
       " 'MK Pandey',\n",
       " 'MK Tiwary',\n",
       " 'MS Dhoni',\n",
       " 'NV Ojha',\n",
       " 'P Kumar',\n",
       " 'PP Chawla',\n",
       " 'R Vinay Kumar',\n",
       " 'RA Jadeja',\n",
       " 'RG Sharma',\n",
       " 'RV Uthappa',\n",
       " 'S Badrinath',\n",
       " 'S Dhawan',\n",
       " 'SK Raina',\n",
       " 'SPD Smith',\n",
       " 'SS Tiwary',\n",
       " 'STR Binny',\n",
       " 'V Kohli',\n",
       " 'WP Saha',\n",
       " 'Y Venugopal Rao',\n",
       " 'YK Pathan',\n",
       " 'Yuvraj Singh']"
      ]
     },
     "execution_count": 15,
     "metadata": {},
     "output_type": "execute_result"
    }
   ],
   "source": [
    "batsman_list"
   ]
  },
  {
   "cell_type": "code",
   "execution_count": 17,
   "id": "9af53d20-10d4-4465-ab97-7f33423b8b00",
   "metadata": {},
   "outputs": [],
   "source": [
    "final=delivery[delivery['batsman'].isin(batsman_list)]"
   ]
  },
  {
   "cell_type": "code",
   "execution_count": 19,
   "id": "f80348f4-9e0f-4735-87c4-79f1306e06fd",
   "metadata": {},
   "outputs": [],
   "source": [
    "runs=final.groupby('batsman')['batsman_runs'].sum()"
   ]
  },
  {
   "cell_type": "code",
   "execution_count": 21,
   "id": "1ff7c4cf-ed1f-4386-98c3-28297fc5141e",
   "metadata": {},
   "outputs": [],
   "source": [
    "balls=final.groupby('batsman')['batsman_runs'].count()"
   ]
  },
  {
   "cell_type": "code",
   "execution_count": 22,
   "id": "886ef077-a7fb-4bea-893b-976777138c2a",
   "metadata": {},
   "outputs": [],
   "source": [
    "sr=(runs/balls)*100"
   ]
  },
  {
   "cell_type": "code",
   "execution_count": 23,
   "id": "552bc30f-9012-47ee-b571-2066c43790ae",
   "metadata": {},
   "outputs": [
    {
     "data": {
      "text/plain": [
       "batsman\n",
       "A Mishra             89.005236\n",
       "AB de Villiers      145.129059\n",
       "AD Mathews          120.868114\n",
       "AM Rahane           117.486549\n",
       "AR Patel            122.672065\n",
       "AT Rayudu           123.014257\n",
       "BJ Hodge            121.422376\n",
       "DA Miller           137.709251\n",
       "DA Warner           138.318401\n",
       "DJ Bravo            122.286822\n",
       "DJ Hussey           120.072661\n",
       "DPMD Jayawardene    118.791064\n",
       "Harbhajan Singh     135.194585\n",
       "IK Pathan           116.751269\n",
       "JA Morkel           136.938202\n",
       "JH Kallis           105.936272\n",
       "JP Duminy           121.970624\n",
       "JP Faulkner         129.802956\n",
       "KA Pollard          140.621266\n",
       "KD Karthik          123.008475\n",
       "KM Jadhav           130.555556\n",
       "LRPL Taylor         120.070838\n",
       "MK Pandey           116.938453\n",
       "MK Tiwary           114.127424\n",
       "MS Dhoni            132.835821\n",
       "NV Ojha             114.528024\n",
       "P Kumar             105.263158\n",
       "PP Chawla           110.278373\n",
       "R Vinay Kumar       106.666667\n",
       "RA Jadeja           118.792867\n",
       "RG Sharma           128.497251\n",
       "RV Uthappa          127.635135\n",
       "S Badrinath         115.742972\n",
       "S Dhawan            118.502496\n",
       "SK Raina            134.995548\n",
       "SPD Smith           128.507127\n",
       "SS Tiwary           114.851485\n",
       "STR Binny           123.747981\n",
       "V Kohli             126.588437\n",
       "WP Saha             127.727646\n",
       "Y Venugopal Rao     113.872832\n",
       "YK Pathan           140.751445\n",
       "Yuvraj Singh        126.390244\n",
       "Name: batsman_runs, dtype: float64"
      ]
     },
     "execution_count": 23,
     "metadata": {},
     "output_type": "execute_result"
    }
   ],
   "source": [
    "sr"
   ]
  },
  {
   "cell_type": "code",
   "execution_count": null,
   "id": "0baa9076-9f6e-40d7-9215-873d94079066",
   "metadata": {},
   "outputs": [],
   "source": []
  }
 ],
 "metadata": {
  "kernelspec": {
   "display_name": "Python 3 (ipykernel)",
   "language": "python",
   "name": "python3"
  },
  "language_info": {
   "codemirror_mode": {
    "name": "ipython",
    "version": 3
   },
   "file_extension": ".py",
   "mimetype": "text/x-python",
   "name": "python",
   "nbconvert_exporter": "python",
   "pygments_lexer": "ipython3",
   "version": "3.11.7"
  }
 },
 "nbformat": 4,
 "nbformat_minor": 5
}
